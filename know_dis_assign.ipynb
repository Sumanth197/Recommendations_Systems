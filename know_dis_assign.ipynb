{
  "nbformat": 4,
  "nbformat_minor": 0,
  "metadata": {
    "colab": {
      "name": "know_dis_assign",
      "version": "0.3.2",
      "provenance": []
    },
    "kernelspec": {
      "name": "python3",
      "display_name": "Python 3"
    },
    "accelerator": "GPU"
  },
  "cells": [
    {
      "metadata": {
        "id": "URiTWsNV0gmM",
        "colab_type": "code",
        "outputId": "bfca06df-c2c6-41ed-e003-061d5802cd2a",
        "colab": {
          "base_uri": "https://localhost:8080/",
          "height": 54
        }
      },
      "cell_type": "code",
      "source": [
        "from google.colab import drive\n",
        "drive.mount('/content/gdrive')"
      ],
      "execution_count": 33,
      "outputs": [
        {
          "output_type": "stream",
          "text": [
            "Drive already mounted at /content/gdrive; to attempt to forcibly remount, call drive.mount(\"/content/gdrive\", force_remount=True).\n"
          ],
          "name": "stdout"
        }
      ]
    },
    {
      "metadata": {
        "id": "7BiNLMwQ0oGV",
        "colab_type": "code",
        "colab": {}
      },
      "cell_type": "code",
      "source": [
        "import pandas as pd\n",
        "from pandas.io.json import json_normalize"
      ],
      "execution_count": 0,
      "outputs": []
    },
    {
      "metadata": {
        "id": "wMFLcWRg0oIJ",
        "colab_type": "code",
        "colab": {}
      },
      "cell_type": "code",
      "source": [
        "file_path = \"gdrive/My Drive/training_mixpanel.txt\""
      ],
      "execution_count": 0,
      "outputs": []
    },
    {
      "metadata": {
        "id": "SQstWbNE0oNf",
        "colab_type": "code",
        "colab": {}
      },
      "cell_type": "code",
      "source": [
        "import json\n",
        "\n",
        "with open(file_path, encoding='utf-8-sig') as json_file:\n",
        "    json_data = json.load(json_file)"
      ],
      "execution_count": 0,
      "outputs": []
    },
    {
      "metadata": {
        "id": "dZNNQNQw13K8",
        "colab_type": "code",
        "colab": {}
      },
      "cell_type": "code",
      "source": [
        "def normalize_data(df):\n",
        "    df_matrix = pd.pivot_table(df, values='quantity', index='customer_id', columns='product_id')\n",
        "    df_matrix_norm = (df_matrix-df_matrix.min())/(df_matrix.max()-df_matrix.min())\n",
        "    d = df_matrix_norm.reset_index()\n",
        "    d.index.names = ['scaled_purchase_freq']\n",
        "    return pd.melt(d, id_vars=['customer_id'], value_name='scaled_purchase_freq').dropna()"
      ],
      "execution_count": 0,
      "outputs": []
    },
    {
      "metadata": {
        "id": "-fvFH61w3J7H",
        "colab_type": "code",
        "colab": {}
      },
      "cell_type": "code",
      "source": [
        "customers=json_normalize(json_data)\n",
        "customers.columns = ['event', 'country', 'customer_id', 'description', 'invoice_date', 'invoice_no', 'product_id', 'quantity', 'unit_price']"
      ],
      "execution_count": 0,
      "outputs": []
    },
    {
      "metadata": {
        "id": "zsDHTOCX3lZ_",
        "colab_type": "code",
        "colab": {}
      },
      "cell_type": "code",
      "source": [
        "customers"
      ],
      "execution_count": 0,
      "outputs": []
    },
    {
      "metadata": {
        "id": "EzzPM7WT0oUl",
        "colab_type": "code",
        "colab": {}
      },
      "cell_type": "code",
      "source": [
        "df = json_normalize(json_data)\n",
        "\n",
        "\n",
        "\n",
        "df.columns = ['event', 'country', 'customer_id', 'description', 'invoice_date', 'invoice_no', 'product_id', 'quantity', 'unit_price']"
      ],
      "execution_count": 0,
      "outputs": []
    },
    {
      "metadata": {
        "id": "h0aGG8gA01oX",
        "colab_type": "code",
        "colab": {}
      },
      "cell_type": "code",
      "source": [
        "df = df.drop(['event', 'invoice_date', 'invoice_no'], axis=1)\n"
      ],
      "execution_count": 0,
      "outputs": []
    },
    {
      "metadata": {
        "id": "z06u2fnZ2F0Q",
        "colab_type": "code",
        "colab": {}
      },
      "cell_type": "code",
      "source": [
        "df = normalize_data(df)"
      ],
      "execution_count": 0,
      "outputs": []
    },
    {
      "metadata": {
        "id": "qaUqvER501q5",
        "colab_type": "code",
        "colab": {}
      },
      "cell_type": "code",
      "source": [
        "from sklearn.model_selection import train_test_split"
      ],
      "execution_count": 0,
      "outputs": []
    },
    {
      "metadata": {
        "id": "9Ib8675L01tN",
        "colab_type": "code",
        "outputId": "bfd739ee-9e60-4c95-f756-f03d89542ec8",
        "colab": {
          "base_uri": "https://localhost:8080/",
          "height": 540
        }
      },
      "cell_type": "code",
      "source": [
        "!pip install turicreate"
      ],
      "execution_count": 45,
      "outputs": [
        {
          "output_type": "error",
          "ename": "NotImplementedError",
          "evalue": "ignored",
          "traceback": [
            "\u001b[0;31m---------------------------------------------------------------------------\u001b[0m",
            "\u001b[0;31mNotImplementedError\u001b[0m                       Traceback (most recent call last)",
            "\u001b[0;32m<ipython-input-45-1c3da338655e>\u001b[0m in \u001b[0;36m<module>\u001b[0;34m()\u001b[0m\n\u001b[0;32m----> 1\u001b[0;31m \u001b[0mget_ipython\u001b[0m\u001b[0;34m(\u001b[0m\u001b[0;34m)\u001b[0m\u001b[0;34m.\u001b[0m\u001b[0msystem\u001b[0m\u001b[0;34m(\u001b[0m\u001b[0;34m'pip install turicreate'\u001b[0m\u001b[0;34m)\u001b[0m\u001b[0;34m\u001b[0m\u001b[0;34m\u001b[0m\u001b[0m\n\u001b[0m",
            "\u001b[0;32m/usr/local/lib/python3.6/dist-packages/google/colab/_shell.py\u001b[0m in \u001b[0;36msystem\u001b[0;34m(self, *args, **kwargs)\u001b[0m\n\u001b[1;32m     71\u001b[0m       \u001b[0mkwargs\u001b[0m\u001b[0;34m.\u001b[0m\u001b[0mupdate\u001b[0m\u001b[0;34m(\u001b[0m\u001b[0;34m{\u001b[0m\u001b[0;34m'also_return_output'\u001b[0m\u001b[0;34m:\u001b[0m \u001b[0;32mTrue\u001b[0m\u001b[0;34m}\u001b[0m\u001b[0;34m)\u001b[0m\u001b[0;34m\u001b[0m\u001b[0;34m\u001b[0m\u001b[0m\n\u001b[1;32m     72\u001b[0m \u001b[0;34m\u001b[0m\u001b[0m\n\u001b[0;32m---> 73\u001b[0;31m     \u001b[0moutput\u001b[0m \u001b[0;34m=\u001b[0m \u001b[0m_system_commands\u001b[0m\u001b[0;34m.\u001b[0m\u001b[0m_system_compat\u001b[0m\u001b[0;34m(\u001b[0m\u001b[0mself\u001b[0m\u001b[0;34m,\u001b[0m \u001b[0;34m*\u001b[0m\u001b[0margs\u001b[0m\u001b[0;34m,\u001b[0m \u001b[0;34m**\u001b[0m\u001b[0mkwargs\u001b[0m\u001b[0;34m)\u001b[0m  \u001b[0;31m# pylint:disable=protected-access\u001b[0m\u001b[0;34m\u001b[0m\u001b[0;34m\u001b[0m\u001b[0m\n\u001b[0m\u001b[1;32m     74\u001b[0m \u001b[0;34m\u001b[0m\u001b[0m\n\u001b[1;32m     75\u001b[0m     \u001b[0;32mif\u001b[0m \u001b[0mpip_warn\u001b[0m\u001b[0;34m:\u001b[0m\u001b[0;34m\u001b[0m\u001b[0;34m\u001b[0m\u001b[0m\n",
            "\u001b[0;32m/usr/local/lib/python3.6/dist-packages/google/colab/_system_commands.py\u001b[0m in \u001b[0;36m_system_compat\u001b[0;34m(shell, cmd, also_return_output)\u001b[0m\n\u001b[1;32m    436\u001b[0m   \u001b[0;31m# stack.\u001b[0m\u001b[0;34m\u001b[0m\u001b[0;34m\u001b[0m\u001b[0;34m\u001b[0m\u001b[0m\n\u001b[1;32m    437\u001b[0m   result = _run_command(\n\u001b[0;32m--> 438\u001b[0;31m       shell.var_expand(cmd, depth=2), clear_streamed_output=False)\n\u001b[0m\u001b[1;32m    439\u001b[0m   \u001b[0mshell\u001b[0m\u001b[0;34m.\u001b[0m\u001b[0muser_ns\u001b[0m\u001b[0;34m[\u001b[0m\u001b[0;34m'_exit_code'\u001b[0m\u001b[0;34m]\u001b[0m \u001b[0;34m=\u001b[0m \u001b[0mresult\u001b[0m\u001b[0;34m.\u001b[0m\u001b[0mreturncode\u001b[0m\u001b[0;34m\u001b[0m\u001b[0;34m\u001b[0m\u001b[0m\n\u001b[1;32m    440\u001b[0m   \u001b[0;32mif\u001b[0m \u001b[0;34m-\u001b[0m\u001b[0mresult\u001b[0m\u001b[0;34m.\u001b[0m\u001b[0mreturncode\u001b[0m \u001b[0;32min\u001b[0m \u001b[0m_INTERRUPTED_SIGNALS\u001b[0m\u001b[0;34m:\u001b[0m\u001b[0;34m\u001b[0m\u001b[0;34m\u001b[0m\u001b[0m\n",
            "\u001b[0;32m/usr/local/lib/python3.6/dist-packages/google/colab/_system_commands.py\u001b[0m in \u001b[0;36m_run_command\u001b[0;34m(cmd, clear_streamed_output)\u001b[0m\n\u001b[1;32m    165\u001b[0m   \u001b[0;32mif\u001b[0m \u001b[0mlocale_encoding\u001b[0m \u001b[0;34m!=\u001b[0m \u001b[0m_ENCODING\u001b[0m\u001b[0;34m:\u001b[0m\u001b[0;34m\u001b[0m\u001b[0;34m\u001b[0m\u001b[0m\n\u001b[1;32m    166\u001b[0m     raise NotImplementedError(\n\u001b[0;32m--> 167\u001b[0;31m         'A UTF-8 locale is required. Got {}'.format(locale_encoding))\n\u001b[0m\u001b[1;32m    168\u001b[0m \u001b[0;34m\u001b[0m\u001b[0m\n\u001b[1;32m    169\u001b[0m   \u001b[0mparent_pty\u001b[0m\u001b[0;34m,\u001b[0m \u001b[0mchild_pty\u001b[0m \u001b[0;34m=\u001b[0m \u001b[0mpty\u001b[0m\u001b[0;34m.\u001b[0m\u001b[0mopenpty\u001b[0m\u001b[0;34m(\u001b[0m\u001b[0;34m)\u001b[0m\u001b[0;34m\u001b[0m\u001b[0;34m\u001b[0m\u001b[0m\n",
            "\u001b[0;31mNotImplementedError\u001b[0m: A UTF-8 locale is required. Got ANSI_X3.4-1968"
          ]
        }
      ]
    },
    {
      "metadata": {
        "id": "cM2lrP8v01wY",
        "colab_type": "code",
        "colab": {}
      },
      "cell_type": "code",
      "source": [
        "import time\n",
        "import turicreate as tc\n"
      ],
      "execution_count": 0,
      "outputs": []
    },
    {
      "metadata": {
        "id": "MGFwOyk01bxx",
        "colab_type": "code",
        "colab": {}
      },
      "cell_type": "code",
      "source": [
        "def split_data(data):\n",
        "  train, test = train_test_split(data, test_size = .2)\n",
        "  \n",
        "  train_data = tc.SFrame(train)\n",
        "  \n",
        "  test_data = tc.SFrame(test)\n",
        "  \n",
        "  return train_data, test_data"
      ],
      "execution_count": 0,
      "outputs": []
    },
    {
      "metadata": {
        "id": "CxPG4GUK1Ok8",
        "colab_type": "code",
        "colab": {}
      },
      "cell_type": "code",
      "source": [
        "train_data_norm, test_data_norm = split_data(df)"
      ],
      "execution_count": 0,
      "outputs": []
    },
    {
      "metadata": {
        "id": "IrQV21kw1Om5",
        "colab_type": "code",
        "outputId": "fef501da-5e1d-4b6f-8567-2cb70cd99c87",
        "colab": {
          "base_uri": "https://localhost:8080/",
          "height": 279
        }
      },
      "cell_type": "code",
      "source": [
        "train_data_norm"
      ],
      "execution_count": 49,
      "outputs": [
        {
          "output_type": "execute_result",
          "data": {
            "text/html": [
              "<div style=\"max-height:1000px;max-width:1500px;overflow:auto;\"><table frame=\"box\" rules=\"cols\">\n",
              "    <tr>\n",
              "        <th style=\"padding-left: 1em; padding-right: 1em; text-align: center\">customer_id</th>\n",
              "        <th style=\"padding-left: 1em; padding-right: 1em; text-align: center\">product_id</th>\n",
              "        <th style=\"padding-left: 1em; padding-right: 1em; text-align: center\">scaled_purchase_freq</th>\n",
              "    </tr>\n",
              "    <tr>\n",
              "        <td style=\"padding-left: 1em; padding-right: 1em; text-align: center; vertical-align: top\">17673</td>\n",
              "        <td style=\"padding-left: 1em; padding-right: 1em; text-align: center; vertical-align: top\">22434</td>\n",
              "        <td style=\"padding-left: 1em; padding-right: 1em; text-align: center; vertical-align: top\">0.014084507042253521</td>\n",
              "    </tr>\n",
              "    <tr>\n",
              "        <td style=\"padding-left: 1em; padding-right: 1em; text-align: center; vertical-align: top\">14505</td>\n",
              "        <td style=\"padding-left: 1em; padding-right: 1em; text-align: center; vertical-align: top\">22495</td>\n",
              "        <td style=\"padding-left: 1em; padding-right: 1em; text-align: center; vertical-align: top\">0.0</td>\n",
              "    </tr>\n",
              "    <tr>\n",
              "        <td style=\"padding-left: 1em; padding-right: 1em; text-align: center; vertical-align: top\">17965</td>\n",
              "        <td style=\"padding-left: 1em; padding-right: 1em; text-align: center; vertical-align: top\">84380</td>\n",
              "        <td style=\"padding-left: 1em; padding-right: 1em; text-align: center; vertical-align: top\">0.027777777777777776</td>\n",
              "    </tr>\n",
              "    <tr>\n",
              "        <td style=\"padding-left: 1em; padding-right: 1em; text-align: center; vertical-align: top\">13050</td>\n",
              "        <td style=\"padding-left: 1em; padding-right: 1em; text-align: center; vertical-align: top\">22464</td>\n",
              "        <td style=\"padding-left: 1em; padding-right: 1em; text-align: center; vertical-align: top\">0.06735751295336788</td>\n",
              "    </tr>\n",
              "    <tr>\n",
              "        <td style=\"padding-left: 1em; padding-right: 1em; text-align: center; vertical-align: top\">15241</td>\n",
              "        <td style=\"padding-left: 1em; padding-right: 1em; text-align: center; vertical-align: top\">21791</td>\n",
              "        <td style=\"padding-left: 1em; padding-right: 1em; text-align: center; vertical-align: top\">0.058823529411764705</td>\n",
              "    </tr>\n",
              "    <tr>\n",
              "        <td style=\"padding-left: 1em; padding-right: 1em; text-align: center; vertical-align: top\">14704</td>\n",
              "        <td style=\"padding-left: 1em; padding-right: 1em; text-align: center; vertical-align: top\">21466</td>\n",
              "        <td style=\"padding-left: 1em; padding-right: 1em; text-align: center; vertical-align: top\">0.0</td>\n",
              "    </tr>\n",
              "    <tr>\n",
              "        <td style=\"padding-left: 1em; padding-right: 1em; text-align: center; vertical-align: top\">17611</td>\n",
              "        <td style=\"padding-left: 1em; padding-right: 1em; text-align: center; vertical-align: top\">22819</td>\n",
              "        <td style=\"padding-left: 1em; padding-right: 1em; text-align: center; vertical-align: top\">0.08045977011494253</td>\n",
              "    </tr>\n",
              "    <tr>\n",
              "        <td style=\"padding-left: 1em; padding-right: 1em; text-align: center; vertical-align: top\">13263</td>\n",
              "        <td style=\"padding-left: 1em; padding-right: 1em; text-align: center; vertical-align: top\">23207</td>\n",
              "        <td style=\"padding-left: 1em; padding-right: 1em; text-align: center; vertical-align: top\">0.011666666666666667</td>\n",
              "    </tr>\n",
              "    <tr>\n",
              "        <td style=\"padding-left: 1em; padding-right: 1em; text-align: center; vertical-align: top\">17757</td>\n",
              "        <td style=\"padding-left: 1em; padding-right: 1em; text-align: center; vertical-align: top\">21207</td>\n",
              "        <td style=\"padding-left: 1em; padding-right: 1em; text-align: center; vertical-align: top\">0.10638297872340426</td>\n",
              "    </tr>\n",
              "    <tr>\n",
              "        <td style=\"padding-left: 1em; padding-right: 1em; text-align: center; vertical-align: top\">17472</td>\n",
              "        <td style=\"padding-left: 1em; padding-right: 1em; text-align: center; vertical-align: top\">79030G</td>\n",
              "        <td style=\"padding-left: 1em; padding-right: 1em; text-align: center; vertical-align: top\">0.021739130434782608</td>\n",
              "    </tr>\n",
              "</table>\n",
              "[170528 rows x 3 columns]<br/>Note: Only the head of the SFrame is printed.<br/>You can use print_rows(num_rows=m, num_columns=n) to print more rows and columns.\n",
              "</div>"
            ],
            "text/plain": [
              "Columns:\n",
              "\tcustomer_id\tint\n",
              "\tproduct_id\tstr\n",
              "\tscaled_purchase_freq\tfloat\n",
              "\n",
              "Rows: 170528\n",
              "\n",
              "Data:\n",
              "+-------------+------------+----------------------+\n",
              "| customer_id | product_id | scaled_purchase_freq |\n",
              "+-------------+------------+----------------------+\n",
              "|    17673    |   22434    | 0.014084507042253521 |\n",
              "|    14505    |   22495    |         0.0          |\n",
              "|    17965    |   84380    | 0.027777777777777776 |\n",
              "|    13050    |   22464    | 0.06735751295336788  |\n",
              "|    15241    |   21791    | 0.058823529411764705 |\n",
              "|    14704    |   21466    |         0.0          |\n",
              "|    17611    |   22819    | 0.08045977011494253  |\n",
              "|    13263    |   23207    | 0.011666666666666667 |\n",
              "|    17757    |   21207    | 0.10638297872340426  |\n",
              "|    17472    |   79030G   | 0.021739130434782608 |\n",
              "+-------------+------------+----------------------+\n",
              "[170528 rows x 3 columns]\n",
              "Note: Only the head of the SFrame is printed.\n",
              "You can use print_rows(num_rows=m, num_columns=n) to print more rows and columns."
            ]
          },
          "metadata": {
            "tags": []
          },
          "execution_count": 49
        }
      ]
    },
    {
      "metadata": {
        "id": "XDtBKKZY2sLV",
        "colab_type": "code",
        "colab": {}
      },
      "cell_type": "code",
      "source": [
        "user_id = 'customer_id'\n",
        "item_id = 'product_id'\n",
        "users_to_recommend = list(customers[user_id].unique())\n",
        "n_rec = 3389 # number of items to recommend\n",
        "n_display = 30 # to display the first few rows in an output dataset"
      ],
      "execution_count": 0,
      "outputs": []
    },
    {
      "metadata": {
        "id": "lRqkEOvy2sIL",
        "colab_type": "code",
        "colab": {}
      },
      "cell_type": "code",
      "source": [
        "def model(train_data, name, user_id, item_id, target, users_to_recommend, n_rec, n_display):\n",
        "  model = tc.item_similarity_recommender.create(train_data, \n",
        "                                                    user_id=user_id, \n",
        "                                                    item_id=item_id, \n",
        "                                                    target=target, \n",
        "                                                    similarity_type='cosine')\n",
        "  recom = model.recommend(users=users_to_recommend, k=n_rec)\n",
        "  recom.print_rows(n_display)\n",
        "  return model"
      ],
      "execution_count": 0,
      "outputs": []
    },
    {
      "metadata": {
        "id": "h6zOBame4IlM",
        "colab_type": "code",
        "colab": {}
      },
      "cell_type": "code",
      "source": [
        ""
      ],
      "execution_count": 0,
      "outputs": []
    },
    {
      "metadata": {
        "id": "xA0wNXaH1Ory",
        "colab_type": "code",
        "outputId": "b752266c-2e93-44b7-d85e-734e61484741",
        "colab": {
          "base_uri": "https://localhost:8080/",
          "height": 1071
        }
      },
      "cell_type": "code",
      "source": [
        "name = 'cosine' \n",
        "target = 'scaled_purchase_freq' \n",
        "cos_norm = model(train_data_norm, name, user_id, item_id, target, users_to_recommend, n_rec, n_display)"
      ],
      "execution_count": 52,
      "outputs": [
        {
          "output_type": "display_data",
          "data": {
            "text/html": [
              "<pre>Preparing data set.</pre>"
            ],
            "text/plain": [
              "Preparing data set."
            ]
          },
          "metadata": {
            "tags": []
          }
        },
        {
          "output_type": "display_data",
          "data": {
            "text/html": [
              "<pre>    Data has 170528 observations with 4338 users and 3379 items.</pre>"
            ],
            "text/plain": [
              "    Data has 170528 observations with 4338 users and 3379 items."
            ]
          },
          "metadata": {
            "tags": []
          }
        },
        {
          "output_type": "display_data",
          "data": {
            "text/html": [
              "<pre>    Data prepared in: 0.212272s</pre>"
            ],
            "text/plain": [
              "    Data prepared in: 0.212272s"
            ]
          },
          "metadata": {
            "tags": []
          }
        },
        {
          "output_type": "display_data",
          "data": {
            "text/html": [
              "<pre>Training model from provided data.</pre>"
            ],
            "text/plain": [
              "Training model from provided data."
            ]
          },
          "metadata": {
            "tags": []
          }
        },
        {
          "output_type": "display_data",
          "data": {
            "text/html": [
              "<pre>Gathering per-item and per-user statistics.</pre>"
            ],
            "text/plain": [
              "Gathering per-item and per-user statistics."
            ]
          },
          "metadata": {
            "tags": []
          }
        },
        {
          "output_type": "display_data",
          "data": {
            "text/html": [
              "<pre>+--------------------------------+------------+</pre>"
            ],
            "text/plain": [
              "+--------------------------------+------------+"
            ]
          },
          "metadata": {
            "tags": []
          }
        },
        {
          "output_type": "display_data",
          "data": {
            "text/html": [
              "<pre>| Elapsed Time (Item Statistics) | % Complete |</pre>"
            ],
            "text/plain": [
              "| Elapsed Time (Item Statistics) | % Complete |"
            ]
          },
          "metadata": {
            "tags": []
          }
        },
        {
          "output_type": "display_data",
          "data": {
            "text/html": [
              "<pre>+--------------------------------+------------+</pre>"
            ],
            "text/plain": [
              "+--------------------------------+------------+"
            ]
          },
          "metadata": {
            "tags": []
          }
        },
        {
          "output_type": "display_data",
          "data": {
            "text/html": [
              "<pre>| 12.684ms                       | 23         |</pre>"
            ],
            "text/plain": [
              "| 12.684ms                       | 23         |"
            ]
          },
          "metadata": {
            "tags": []
          }
        },
        {
          "output_type": "display_data",
          "data": {
            "text/html": [
              "<pre>| 18.632ms                       | 100        |</pre>"
            ],
            "text/plain": [
              "| 18.632ms                       | 100        |"
            ]
          },
          "metadata": {
            "tags": []
          }
        },
        {
          "output_type": "display_data",
          "data": {
            "text/html": [
              "<pre>+--------------------------------+------------+</pre>"
            ],
            "text/plain": [
              "+--------------------------------+------------+"
            ]
          },
          "metadata": {
            "tags": []
          }
        },
        {
          "output_type": "display_data",
          "data": {
            "text/html": [
              "<pre>Setting up lookup tables.</pre>"
            ],
            "text/plain": [
              "Setting up lookup tables."
            ]
          },
          "metadata": {
            "tags": []
          }
        },
        {
          "output_type": "display_data",
          "data": {
            "text/html": [
              "<pre>Processing data in one pass using dense lookup tables.</pre>"
            ],
            "text/plain": [
              "Processing data in one pass using dense lookup tables."
            ]
          },
          "metadata": {
            "tags": []
          }
        },
        {
          "output_type": "display_data",
          "data": {
            "text/html": [
              "<pre>+-------------------------------------+------------------+-----------------+</pre>"
            ],
            "text/plain": [
              "+-------------------------------------+------------------+-----------------+"
            ]
          },
          "metadata": {
            "tags": []
          }
        },
        {
          "output_type": "display_data",
          "data": {
            "text/html": [
              "<pre>| Elapsed Time (Constructing Lookups) | Total % Complete | Items Processed |</pre>"
            ],
            "text/plain": [
              "| Elapsed Time (Constructing Lookups) | Total % Complete | Items Processed |"
            ]
          },
          "metadata": {
            "tags": []
          }
        },
        {
          "output_type": "display_data",
          "data": {
            "text/html": [
              "<pre>+-------------------------------------+------------------+-----------------+</pre>"
            ],
            "text/plain": [
              "+-------------------------------------+------------------+-----------------+"
            ]
          },
          "metadata": {
            "tags": []
          }
        },
        {
          "output_type": "display_data",
          "data": {
            "text/html": [
              "<pre>| 45.03ms                             | 0                | 0               |</pre>"
            ],
            "text/plain": [
              "| 45.03ms                             | 0                | 0               |"
            ]
          },
          "metadata": {
            "tags": []
          }
        },
        {
          "output_type": "display_data",
          "data": {
            "text/html": [
              "<pre>| 532.836ms                           | 100              | 3379            |</pre>"
            ],
            "text/plain": [
              "| 532.836ms                           | 100              | 3379            |"
            ]
          },
          "metadata": {
            "tags": []
          }
        },
        {
          "output_type": "display_data",
          "data": {
            "text/html": [
              "<pre>+-------------------------------------+------------------+-----------------+</pre>"
            ],
            "text/plain": [
              "+-------------------------------------+------------------+-----------------+"
            ]
          },
          "metadata": {
            "tags": []
          }
        },
        {
          "output_type": "display_data",
          "data": {
            "text/html": [
              "<pre>Finalizing lookup tables.</pre>"
            ],
            "text/plain": [
              "Finalizing lookup tables."
            ]
          },
          "metadata": {
            "tags": []
          }
        },
        {
          "output_type": "display_data",
          "data": {
            "text/html": [
              "<pre>Generating candidate set for working with new users.</pre>"
            ],
            "text/plain": [
              "Generating candidate set for working with new users."
            ]
          },
          "metadata": {
            "tags": []
          }
        },
        {
          "output_type": "display_data",
          "data": {
            "text/html": [
              "<pre>Finished training in 0.563073s</pre>"
            ],
            "text/plain": [
              "Finished training in 0.563073s"
            ]
          },
          "metadata": {
            "tags": []
          }
        },
        {
          "output_type": "display_data",
          "data": {
            "text/html": [
              "<pre>recommendations finished on 1000/4363 queries. users per second: 1046.28</pre>"
            ],
            "text/plain": [
              "recommendations finished on 1000/4363 queries. users per second: 1046.28"
            ]
          },
          "metadata": {
            "tags": []
          }
        },
        {
          "output_type": "display_data",
          "data": {
            "text/html": [
              "<pre>recommendations finished on 2000/4363 queries. users per second: 1033.84</pre>"
            ],
            "text/plain": [
              "recommendations finished on 2000/4363 queries. users per second: 1033.84"
            ]
          },
          "metadata": {
            "tags": []
          }
        },
        {
          "output_type": "display_data",
          "data": {
            "text/html": [
              "<pre>recommendations finished on 3000/4363 queries. users per second: 1043.19</pre>"
            ],
            "text/plain": [
              "recommendations finished on 3000/4363 queries. users per second: 1043.19"
            ]
          },
          "metadata": {
            "tags": []
          }
        },
        {
          "output_type": "display_data",
          "data": {
            "text/html": [
              "<pre>recommendations finished on 4000/4363 queries. users per second: 1046.81</pre>"
            ],
            "text/plain": [
              "recommendations finished on 4000/4363 queries. users per second: 1046.81"
            ]
          },
          "metadata": {
            "tags": []
          }
        },
        {
          "output_type": "stream",
          "text": [
            "+-------------+------------+----------------------+------+\n",
            "| customer_id | product_id |        score         | rank |\n",
            "+-------------+------------+----------------------+------+\n",
            "|    17850    |   82494L   | 0.013867782694952828 |  1   |\n",
            "|    17850    |   82482    | 0.013744158404214042 |  2   |\n",
            "|    17850    |   71496A   | 0.013167002371379308 |  3   |\n",
            "|    17850    |   20655    | 0.012838461569377355 |  4   |\n",
            "|    17850    |   22903    | 0.012233785220554896 |  5   |\n",
            "|    17850    |   35923    | 0.011563088212694441 |  6   |\n",
            "|    17850    |   84884A   | 0.011485436132975988 |  7   |\n",
            "|    17850    |   20679    | 0.011073644672121321 |  8   |\n",
            "|    17850    |   35095A   | 0.010863453149795532 |  9   |\n",
            "|    17850    |   90057    | 0.010838632072721208 |  10  |\n",
            "|    17850    |   90210D   | 0.01077385459627424  |  11  |\n",
            "|    17850    |   35095B   |  0.010728691305433   |  12  |\n",
            "|    17850    |   21733    | 0.010722024100167411 |  13  |\n",
            "|    17850    |   47481    | 0.010720095464161463 |  14  |\n",
            "|    17850    |   85025C   | 0.010712138244083949 |  15  |\n",
            "|    17850    |   16216    | 0.01069299238068717  |  16  |\n",
            "|    17850    |   37488A   | 0.010676073176520211 |  17  |\n",
            "|    17850    |   37487B   | 0.010676073176520211 |  18  |\n",
            "|    17850    |   84857B   | 0.010676073176520211 |  19  |\n",
            "|    17850    |   90210C   | 0.010676073176520211 |  20  |\n",
            "|    17850    |   16043    | 0.010676073176520211 |  21  |\n",
            "|    17850    |   84858C   | 0.010676073176520211 |  22  |\n",
            "|    17850    |   16052    | 0.01064184308052063  |  23  |\n",
            "|    17850    |   15034    | 0.01062834688595363  |  24  |\n",
            "|    17850    |   22134    | 0.010622888803482056 |  25  |\n",
            "|    17850    |   35638B   | 0.010616166251046317 |  26  |\n",
            "|    17850    |   85024B   | 0.010607055255344935 |  27  |\n",
            "|    17850    |   21319    |  0.0105992215020316  |  28  |\n",
            "|    17850    |   21634    | 0.01059173686163766  |  29  |\n",
            "|    17850    |   79190B   | 0.010571096624646868 |  30  |\n",
            "+-------------+------------+----------------------+------+\n",
            "[14572049 rows x 4 columns]\n",
            "\n"
          ],
          "name": "stdout"
        }
      ]
    },
    {
      "metadata": {
        "id": "mgLQmYxs6uso",
        "colab_type": "code",
        "colab": {}
      },
      "cell_type": "code",
      "source": [
        "test_data_norm.shape"
      ],
      "execution_count": 0,
      "outputs": []
    },
    {
      "metadata": {
        "id": "UXhen1Ts7KRV",
        "colab_type": "code",
        "colab": {}
      },
      "cell_type": "code",
      "source": [
        ""
      ],
      "execution_count": 0,
      "outputs": []
    },
    {
      "metadata": {
        "id": "pysRmozl5Mgn",
        "colab_type": "code",
        "outputId": "00fcd6f7-d385-4d0b-b2b6-c7020c51d2f5",
        "colab": {
          "base_uri": "https://localhost:8080/",
          "height": 1020
        }
      },
      "cell_type": "code",
      "source": [
        "cos_norm.evaluate( test_data_norm)"
      ],
      "execution_count": 64,
      "outputs": [
        {
          "output_type": "display_data",
          "data": {
            "text/html": [
              "<pre>recommendations finished on 1000/3978 queries. users per second: 11638.3</pre>"
            ],
            "text/plain": [
              "recommendations finished on 1000/3978 queries. users per second: 11638.3"
            ]
          },
          "metadata": {
            "tags": []
          }
        },
        {
          "output_type": "display_data",
          "data": {
            "text/html": [
              "<pre>recommendations finished on 2000/3978 queries. users per second: 11689.6</pre>"
            ],
            "text/plain": [
              "recommendations finished on 2000/3978 queries. users per second: 11689.6"
            ]
          },
          "metadata": {
            "tags": []
          }
        },
        {
          "output_type": "display_data",
          "data": {
            "text/html": [
              "<pre>recommendations finished on 3000/3978 queries. users per second: 11636.5</pre>"
            ],
            "text/plain": [
              "recommendations finished on 3000/3978 queries. users per second: 11636.5"
            ]
          },
          "metadata": {
            "tags": []
          }
        },
        {
          "output_type": "stream",
          "text": [
            "\n",
            "Precision and recall summary statistics by cutoff\n",
            "+--------+----------------------+----------------------+\n",
            "| cutoff |    mean_precision    |     mean_recall      |\n",
            "+--------+----------------------+----------------------+\n",
            "|   1    | 0.03921568627450978  | 0.008679250347307717 |\n",
            "|   2    | 0.029663147310206094 | 0.013018532652538228 |\n",
            "|   3    | 0.024635495223730538 | 0.016006329821276772 |\n",
            "|   4    | 0.02155605832076417  | 0.01835183677222756  |\n",
            "|   5    | 0.01945701357466061  | 0.02107676479486912  |\n",
            "|   6    | 0.017471091000502818 | 0.023003226974747087 |\n",
            "|   7    | 0.01612439847733962  | 0.02445312107589168  |\n",
            "|   8    | 0.01505153343388638  | 0.02570485814865485  |\n",
            "|   9    | 0.013881906038768772 | 0.026131461829334547 |\n",
            "|   10   | 0.013247863247863246 | 0.027490957436983487 |\n",
            "+--------+----------------------+----------------------+\n",
            "[10 rows x 3 columns]\n",
            "\n",
            "\n",
            "Overall RMSE: 0.24816302102822008\n",
            "\n",
            "Per User RMSE (best)\n",
            "+-------------+------+-------+\n",
            "| customer_id | rmse | count |\n",
            "+-------------+------+-------+\n",
            "|    17233    | 0.0  |   1   |\n",
            "+-------------+------+-------+\n",
            "[1 rows x 3 columns]\n",
            "\n",
            "\n",
            "Per User RMSE (worst)\n",
            "+-------------+------+-------+\n",
            "| customer_id | rmse | count |\n",
            "+-------------+------+-------+\n",
            "|    17647    | 1.0  |   1   |\n",
            "+-------------+------+-------+\n",
            "[1 rows x 3 columns]\n",
            "\n",
            "\n",
            "Per Item RMSE (best)\n",
            "+------------+------+-------+\n",
            "| product_id | rmse | count |\n",
            "+------------+------+-------+\n",
            "|   72369A   | 0.0  |   1   |\n",
            "+------------+------+-------+\n",
            "[1 rows x 3 columns]\n",
            "\n",
            "\n",
            "Per Item RMSE (worst)\n",
            "+------------+------+-------+\n",
            "| product_id | rmse | count |\n",
            "+------------+------+-------+\n",
            "|   10124A   | 1.0  |   1   |\n",
            "+------------+------+-------+\n",
            "[1 rows x 3 columns]\n",
            "\n"
          ],
          "name": "stdout"
        }
      ]
    },
    {
      "metadata": {
        "id": "b7x-Nna_7Liq",
        "colab_type": "code",
        "outputId": "6a5d5b06-c62d-4eef-bb35-37b2dc6cbd68",
        "colab": {
          "base_uri": "https://localhost:8080/",
          "height": 1071
        }
      },
      "cell_type": "code",
      "source": [
        "final_model = tc.item_similarity_recommender.create(tc.SFrame(df), \n",
        "                                            user_id=user_id, \n",
        "                                            item_id=item_id, \n",
        "                                            target=target, similarity_type='cosine')\n",
        "\n",
        "recom = final_model.recommend(users=users_to_recommend, k=n_rec)\n",
        "recom.print_rows(n_display)"
      ],
      "execution_count": 62,
      "outputs": [
        {
          "output_type": "display_data",
          "data": {
            "text/html": [
              "<pre>Preparing data set.</pre>"
            ],
            "text/plain": [
              "Preparing data set."
            ]
          },
          "metadata": {
            "tags": []
          }
        },
        {
          "output_type": "display_data",
          "data": {
            "text/html": [
              "<pre>    Data has 213160 observations with 4363 users and 3389 items.</pre>"
            ],
            "text/plain": [
              "    Data has 213160 observations with 4363 users and 3389 items."
            ]
          },
          "metadata": {
            "tags": []
          }
        },
        {
          "output_type": "display_data",
          "data": {
            "text/html": [
              "<pre>    Data prepared in: 0.262373s</pre>"
            ],
            "text/plain": [
              "    Data prepared in: 0.262373s"
            ]
          },
          "metadata": {
            "tags": []
          }
        },
        {
          "output_type": "display_data",
          "data": {
            "text/html": [
              "<pre>Training model from provided data.</pre>"
            ],
            "text/plain": [
              "Training model from provided data."
            ]
          },
          "metadata": {
            "tags": []
          }
        },
        {
          "output_type": "display_data",
          "data": {
            "text/html": [
              "<pre>Gathering per-item and per-user statistics.</pre>"
            ],
            "text/plain": [
              "Gathering per-item and per-user statistics."
            ]
          },
          "metadata": {
            "tags": []
          }
        },
        {
          "output_type": "display_data",
          "data": {
            "text/html": [
              "<pre>+--------------------------------+------------+</pre>"
            ],
            "text/plain": [
              "+--------------------------------+------------+"
            ]
          },
          "metadata": {
            "tags": []
          }
        },
        {
          "output_type": "display_data",
          "data": {
            "text/html": [
              "<pre>| Elapsed Time (Item Statistics) | % Complete |</pre>"
            ],
            "text/plain": [
              "| Elapsed Time (Item Statistics) | % Complete |"
            ]
          },
          "metadata": {
            "tags": []
          }
        },
        {
          "output_type": "display_data",
          "data": {
            "text/html": [
              "<pre>+--------------------------------+------------+</pre>"
            ],
            "text/plain": [
              "+--------------------------------+------------+"
            ]
          },
          "metadata": {
            "tags": []
          }
        },
        {
          "output_type": "display_data",
          "data": {
            "text/html": [
              "<pre>| 13.197ms                       | 22.75      |</pre>"
            ],
            "text/plain": [
              "| 13.197ms                       | 22.75      |"
            ]
          },
          "metadata": {
            "tags": []
          }
        },
        {
          "output_type": "display_data",
          "data": {
            "text/html": [
              "<pre>| 22.327ms                       | 100        |</pre>"
            ],
            "text/plain": [
              "| 22.327ms                       | 100        |"
            ]
          },
          "metadata": {
            "tags": []
          }
        },
        {
          "output_type": "display_data",
          "data": {
            "text/html": [
              "<pre>+--------------------------------+------------+</pre>"
            ],
            "text/plain": [
              "+--------------------------------+------------+"
            ]
          },
          "metadata": {
            "tags": []
          }
        },
        {
          "output_type": "display_data",
          "data": {
            "text/html": [
              "<pre>Setting up lookup tables.</pre>"
            ],
            "text/plain": [
              "Setting up lookup tables."
            ]
          },
          "metadata": {
            "tags": []
          }
        },
        {
          "output_type": "display_data",
          "data": {
            "text/html": [
              "<pre>Processing data in one pass using dense lookup tables.</pre>"
            ],
            "text/plain": [
              "Processing data in one pass using dense lookup tables."
            ]
          },
          "metadata": {
            "tags": []
          }
        },
        {
          "output_type": "display_data",
          "data": {
            "text/html": [
              "<pre>+-------------------------------------+------------------+-----------------+</pre>"
            ],
            "text/plain": [
              "+-------------------------------------+------------------+-----------------+"
            ]
          },
          "metadata": {
            "tags": []
          }
        },
        {
          "output_type": "display_data",
          "data": {
            "text/html": [
              "<pre>| Elapsed Time (Constructing Lookups) | Total % Complete | Items Processed |</pre>"
            ],
            "text/plain": [
              "| Elapsed Time (Constructing Lookups) | Total % Complete | Items Processed |"
            ]
          },
          "metadata": {
            "tags": []
          }
        },
        {
          "output_type": "display_data",
          "data": {
            "text/html": [
              "<pre>+-------------------------------------+------------------+-----------------+</pre>"
            ],
            "text/plain": [
              "+-------------------------------------+------------------+-----------------+"
            ]
          },
          "metadata": {
            "tags": []
          }
        },
        {
          "output_type": "display_data",
          "data": {
            "text/html": [
              "<pre>| 35.46ms                             | 0                | 4               |</pre>"
            ],
            "text/plain": [
              "| 35.46ms                             | 0                | 4               |"
            ]
          },
          "metadata": {
            "tags": []
          }
        },
        {
          "output_type": "display_data",
          "data": {
            "text/html": [
              "<pre>| 595.289ms                           | 100              | 3389            |</pre>"
            ],
            "text/plain": [
              "| 595.289ms                           | 100              | 3389            |"
            ]
          },
          "metadata": {
            "tags": []
          }
        },
        {
          "output_type": "display_data",
          "data": {
            "text/html": [
              "<pre>+-------------------------------------+------------------+-----------------+</pre>"
            ],
            "text/plain": [
              "+-------------------------------------+------------------+-----------------+"
            ]
          },
          "metadata": {
            "tags": []
          }
        },
        {
          "output_type": "display_data",
          "data": {
            "text/html": [
              "<pre>Finalizing lookup tables.</pre>"
            ],
            "text/plain": [
              "Finalizing lookup tables."
            ]
          },
          "metadata": {
            "tags": []
          }
        },
        {
          "output_type": "display_data",
          "data": {
            "text/html": [
              "<pre>Generating candidate set for working with new users.</pre>"
            ],
            "text/plain": [
              "Generating candidate set for working with new users."
            ]
          },
          "metadata": {
            "tags": []
          }
        },
        {
          "output_type": "display_data",
          "data": {
            "text/html": [
              "<pre>Finished training in 0.627036s</pre>"
            ],
            "text/plain": [
              "Finished training in 0.627036s"
            ]
          },
          "metadata": {
            "tags": []
          }
        },
        {
          "output_type": "display_data",
          "data": {
            "text/html": [
              "<pre>recommendations finished on 1000/4363 queries. users per second: 759.544</pre>"
            ],
            "text/plain": [
              "recommendations finished on 1000/4363 queries. users per second: 759.544"
            ]
          },
          "metadata": {
            "tags": []
          }
        },
        {
          "output_type": "display_data",
          "data": {
            "text/html": [
              "<pre>recommendations finished on 2000/4363 queries. users per second: 861.812</pre>"
            ],
            "text/plain": [
              "recommendations finished on 2000/4363 queries. users per second: 861.812"
            ]
          },
          "metadata": {
            "tags": []
          }
        },
        {
          "output_type": "display_data",
          "data": {
            "text/html": [
              "<pre>recommendations finished on 3000/4363 queries. users per second: 905.191</pre>"
            ],
            "text/plain": [
              "recommendations finished on 3000/4363 queries. users per second: 905.191"
            ]
          },
          "metadata": {
            "tags": []
          }
        },
        {
          "output_type": "display_data",
          "data": {
            "text/html": [
              "<pre>recommendations finished on 4000/4363 queries. users per second: 927.719</pre>"
            ],
            "text/plain": [
              "recommendations finished on 4000/4363 queries. users per second: 927.719"
            ]
          },
          "metadata": {
            "tags": []
          }
        },
        {
          "output_type": "stream",
          "text": [
            "+-------------+------------+----------------------+------+\n",
            "| customer_id | product_id |        score         | rank |\n",
            "+-------------+------------+----------------------+------+\n",
            "|    17850    |   71496A   | 0.00924374075496898  |  1   |\n",
            "|    17850    |   72232    | 0.00918054931304034  |  2   |\n",
            "|    17850    |   16216    | 0.00912618637084961  |  3   |\n",
            "|    17850    |   47481    | 0.009125225684222053 |  4   |\n",
            "|    17850    |   16151A   | 0.009093137348399442 |  5   |\n",
            "|    17850    |   44234    | 0.009052669300752528 |  6   |\n",
            "|    17850    |   20655    | 0.009011748959036434 |  7   |\n",
            "|    17850    |   35095A   | 0.008990452570073745 |  8   |\n",
            "|    17850    |   35095B   | 0.008897518410402186 |  9   |\n",
            "|    17850    |   22903    | 0.008757405421313117 |  10  |\n",
            "|    17850    |   90210D   | 0.008663507068858427 |  11  |\n",
            "|    17850    |   21634    | 0.008663447464213651 |  12  |\n",
            "|    17850    |   21733    | 0.008637635146870333 |  13  |\n",
            "|    17850    |   90057    | 0.008602100260117474 |  14  |\n",
            "|    17850    |   85025C   | 0.008585863253649543 |  15  |\n",
            "|    17850    |   47574A   | 0.008538761559654684 |  16  |\n",
            "|    17850    |   84858C   | 0.008471604655770695 |  17  |\n",
            "|    17850    |   84857B   | 0.008471604655770695 |  18  |\n",
            "|    17850    |   90210C   | 0.008471604655770695 |  19  |\n",
            "|    17850    |   16043    | 0.008471604655770695 |  20  |\n",
            "|    17850    |   37487B   | 0.008471604655770695 |  21  |\n",
            "|    17850    |   37488A   | 0.008471604655770695 |  22  |\n",
            "|    17850    |   85024B   | 0.008462004801806281 |  23  |\n",
            "|    17850    |   20679    | 0.00844720531912411  |  24  |\n",
            "|    17850    |   16052    | 0.008444442468530992 |  25  |\n",
            "|    17850    |   84422    | 0.008429439628825468 |  26  |\n",
            "|    17850    |   22134    | 0.008429394048802993 |  27  |\n",
            "|    17850    |   47471    | 0.008425411056069768 |  28  |\n",
            "|    17850    |   35638B   | 0.008424071704640108 |  29  |\n",
            "|    17850    |   21319    | 0.00841601806528428  |  30  |\n",
            "+-------------+------------+----------------------+------+\n",
            "[14573047 rows x 4 columns]\n",
            "\n"
          ],
          "name": "stdout"
        }
      ]
    },
    {
      "metadata": {
        "id": "PS3lyEcS7M1q",
        "colab_type": "code",
        "outputId": "5e4ff3d0-dee3-4d4f-cde6-bbafe94aa5e8",
        "colab": {
          "base_uri": "https://localhost:8080/",
          "height": 1986
        }
      },
      "cell_type": "code",
      "source": [
        "df_rec = recom.to_dataframe()\n",
        "print(df_rec.shape)\n",
        "df_rec.head(100)"
      ],
      "execution_count": 63,
      "outputs": [
        {
          "output_type": "stream",
          "text": [
            "(14573047, 4)\n"
          ],
          "name": "stdout"
        },
        {
          "output_type": "execute_result",
          "data": {
            "text/html": [
              "<div>\n",
              "<style scoped>\n",
              "    .dataframe tbody tr th:only-of-type {\n",
              "        vertical-align: middle;\n",
              "    }\n",
              "\n",
              "    .dataframe tbody tr th {\n",
              "        vertical-align: top;\n",
              "    }\n",
              "\n",
              "    .dataframe thead th {\n",
              "        text-align: right;\n",
              "    }\n",
              "</style>\n",
              "<table border=\"1\" class=\"dataframe\">\n",
              "  <thead>\n",
              "    <tr style=\"text-align: right;\">\n",
              "      <th></th>\n",
              "      <th>customer_id</th>\n",
              "      <th>product_id</th>\n",
              "      <th>score</th>\n",
              "      <th>rank</th>\n",
              "    </tr>\n",
              "  </thead>\n",
              "  <tbody>\n",
              "    <tr>\n",
              "      <th>0</th>\n",
              "      <td>17850</td>\n",
              "      <td>71496A</td>\n",
              "      <td>0.009244</td>\n",
              "      <td>1</td>\n",
              "    </tr>\n",
              "    <tr>\n",
              "      <th>1</th>\n",
              "      <td>17850</td>\n",
              "      <td>72232</td>\n",
              "      <td>0.009181</td>\n",
              "      <td>2</td>\n",
              "    </tr>\n",
              "    <tr>\n",
              "      <th>2</th>\n",
              "      <td>17850</td>\n",
              "      <td>16216</td>\n",
              "      <td>0.009126</td>\n",
              "      <td>3</td>\n",
              "    </tr>\n",
              "    <tr>\n",
              "      <th>3</th>\n",
              "      <td>17850</td>\n",
              "      <td>47481</td>\n",
              "      <td>0.009125</td>\n",
              "      <td>4</td>\n",
              "    </tr>\n",
              "    <tr>\n",
              "      <th>4</th>\n",
              "      <td>17850</td>\n",
              "      <td>16151A</td>\n",
              "      <td>0.009093</td>\n",
              "      <td>5</td>\n",
              "    </tr>\n",
              "    <tr>\n",
              "      <th>5</th>\n",
              "      <td>17850</td>\n",
              "      <td>44234</td>\n",
              "      <td>0.009053</td>\n",
              "      <td>6</td>\n",
              "    </tr>\n",
              "    <tr>\n",
              "      <th>6</th>\n",
              "      <td>17850</td>\n",
              "      <td>20655</td>\n",
              "      <td>0.009012</td>\n",
              "      <td>7</td>\n",
              "    </tr>\n",
              "    <tr>\n",
              "      <th>7</th>\n",
              "      <td>17850</td>\n",
              "      <td>35095A</td>\n",
              "      <td>0.008990</td>\n",
              "      <td>8</td>\n",
              "    </tr>\n",
              "    <tr>\n",
              "      <th>8</th>\n",
              "      <td>17850</td>\n",
              "      <td>35095B</td>\n",
              "      <td>0.008898</td>\n",
              "      <td>9</td>\n",
              "    </tr>\n",
              "    <tr>\n",
              "      <th>9</th>\n",
              "      <td>17850</td>\n",
              "      <td>22903</td>\n",
              "      <td>0.008757</td>\n",
              "      <td>10</td>\n",
              "    </tr>\n",
              "    <tr>\n",
              "      <th>10</th>\n",
              "      <td>17850</td>\n",
              "      <td>90210D</td>\n",
              "      <td>0.008664</td>\n",
              "      <td>11</td>\n",
              "    </tr>\n",
              "    <tr>\n",
              "      <th>11</th>\n",
              "      <td>17850</td>\n",
              "      <td>21634</td>\n",
              "      <td>0.008663</td>\n",
              "      <td>12</td>\n",
              "    </tr>\n",
              "    <tr>\n",
              "      <th>12</th>\n",
              "      <td>17850</td>\n",
              "      <td>21733</td>\n",
              "      <td>0.008638</td>\n",
              "      <td>13</td>\n",
              "    </tr>\n",
              "    <tr>\n",
              "      <th>13</th>\n",
              "      <td>17850</td>\n",
              "      <td>90057</td>\n",
              "      <td>0.008602</td>\n",
              "      <td>14</td>\n",
              "    </tr>\n",
              "    <tr>\n",
              "      <th>14</th>\n",
              "      <td>17850</td>\n",
              "      <td>85025C</td>\n",
              "      <td>0.008586</td>\n",
              "      <td>15</td>\n",
              "    </tr>\n",
              "    <tr>\n",
              "      <th>15</th>\n",
              "      <td>17850</td>\n",
              "      <td>47574A</td>\n",
              "      <td>0.008539</td>\n",
              "      <td>16</td>\n",
              "    </tr>\n",
              "    <tr>\n",
              "      <th>16</th>\n",
              "      <td>17850</td>\n",
              "      <td>84858C</td>\n",
              "      <td>0.008472</td>\n",
              "      <td>17</td>\n",
              "    </tr>\n",
              "    <tr>\n",
              "      <th>17</th>\n",
              "      <td>17850</td>\n",
              "      <td>84857B</td>\n",
              "      <td>0.008472</td>\n",
              "      <td>18</td>\n",
              "    </tr>\n",
              "    <tr>\n",
              "      <th>18</th>\n",
              "      <td>17850</td>\n",
              "      <td>90210C</td>\n",
              "      <td>0.008472</td>\n",
              "      <td>19</td>\n",
              "    </tr>\n",
              "    <tr>\n",
              "      <th>19</th>\n",
              "      <td>17850</td>\n",
              "      <td>16043</td>\n",
              "      <td>0.008472</td>\n",
              "      <td>20</td>\n",
              "    </tr>\n",
              "    <tr>\n",
              "      <th>20</th>\n",
              "      <td>17850</td>\n",
              "      <td>37487B</td>\n",
              "      <td>0.008472</td>\n",
              "      <td>21</td>\n",
              "    </tr>\n",
              "    <tr>\n",
              "      <th>21</th>\n",
              "      <td>17850</td>\n",
              "      <td>37488A</td>\n",
              "      <td>0.008472</td>\n",
              "      <td>22</td>\n",
              "    </tr>\n",
              "    <tr>\n",
              "      <th>22</th>\n",
              "      <td>17850</td>\n",
              "      <td>85024B</td>\n",
              "      <td>0.008462</td>\n",
              "      <td>23</td>\n",
              "    </tr>\n",
              "    <tr>\n",
              "      <th>23</th>\n",
              "      <td>17850</td>\n",
              "      <td>20679</td>\n",
              "      <td>0.008447</td>\n",
              "      <td>24</td>\n",
              "    </tr>\n",
              "    <tr>\n",
              "      <th>24</th>\n",
              "      <td>17850</td>\n",
              "      <td>16052</td>\n",
              "      <td>0.008444</td>\n",
              "      <td>25</td>\n",
              "    </tr>\n",
              "    <tr>\n",
              "      <th>25</th>\n",
              "      <td>17850</td>\n",
              "      <td>84422</td>\n",
              "      <td>0.008429</td>\n",
              "      <td>26</td>\n",
              "    </tr>\n",
              "    <tr>\n",
              "      <th>26</th>\n",
              "      <td>17850</td>\n",
              "      <td>22134</td>\n",
              "      <td>0.008429</td>\n",
              "      <td>27</td>\n",
              "    </tr>\n",
              "    <tr>\n",
              "      <th>27</th>\n",
              "      <td>17850</td>\n",
              "      <td>47471</td>\n",
              "      <td>0.008425</td>\n",
              "      <td>28</td>\n",
              "    </tr>\n",
              "    <tr>\n",
              "      <th>28</th>\n",
              "      <td>17850</td>\n",
              "      <td>35638B</td>\n",
              "      <td>0.008424</td>\n",
              "      <td>29</td>\n",
              "    </tr>\n",
              "    <tr>\n",
              "      <th>29</th>\n",
              "      <td>17850</td>\n",
              "      <td>21319</td>\n",
              "      <td>0.008416</td>\n",
              "      <td>30</td>\n",
              "    </tr>\n",
              "    <tr>\n",
              "      <th>...</th>\n",
              "      <td>...</td>\n",
              "      <td>...</td>\n",
              "      <td>...</td>\n",
              "      <td>...</td>\n",
              "    </tr>\n",
              "    <tr>\n",
              "      <th>70</th>\n",
              "      <td>17850</td>\n",
              "      <td>20766</td>\n",
              "      <td>0.006018</td>\n",
              "      <td>71</td>\n",
              "    </tr>\n",
              "    <tr>\n",
              "      <th>71</th>\n",
              "      <td>17850</td>\n",
              "      <td>23522</td>\n",
              "      <td>0.005996</td>\n",
              "      <td>72</td>\n",
              "    </tr>\n",
              "    <tr>\n",
              "      <th>72</th>\n",
              "      <td>17850</td>\n",
              "      <td>23099</td>\n",
              "      <td>0.005957</td>\n",
              "      <td>73</td>\n",
              "    </tr>\n",
              "    <tr>\n",
              "      <th>73</th>\n",
              "      <td>17850</td>\n",
              "      <td>23315</td>\n",
              "      <td>0.005932</td>\n",
              "      <td>74</td>\n",
              "    </tr>\n",
              "    <tr>\n",
              "      <th>74</th>\n",
              "      <td>17850</td>\n",
              "      <td>84817</td>\n",
              "      <td>0.005926</td>\n",
              "      <td>75</td>\n",
              "    </tr>\n",
              "    <tr>\n",
              "      <th>75</th>\n",
              "      <td>17850</td>\n",
              "      <td>72586</td>\n",
              "      <td>0.005898</td>\n",
              "      <td>76</td>\n",
              "    </tr>\n",
              "    <tr>\n",
              "      <th>76</th>\n",
              "      <td>17850</td>\n",
              "      <td>90125D</td>\n",
              "      <td>0.005840</td>\n",
              "      <td>77</td>\n",
              "    </tr>\n",
              "    <tr>\n",
              "      <th>77</th>\n",
              "      <td>17850</td>\n",
              "      <td>90125A</td>\n",
              "      <td>0.005840</td>\n",
              "      <td>78</td>\n",
              "    </tr>\n",
              "    <tr>\n",
              "      <th>78</th>\n",
              "      <td>17850</td>\n",
              "      <td>90125C</td>\n",
              "      <td>0.005840</td>\n",
              "      <td>79</td>\n",
              "    </tr>\n",
              "    <tr>\n",
              "      <th>79</th>\n",
              "      <td>17850</td>\n",
              "      <td>16202B</td>\n",
              "      <td>0.005840</td>\n",
              "      <td>80</td>\n",
              "    </tr>\n",
              "    <tr>\n",
              "      <th>80</th>\n",
              "      <td>17850</td>\n",
              "      <td>44228</td>\n",
              "      <td>0.005840</td>\n",
              "      <td>81</td>\n",
              "    </tr>\n",
              "    <tr>\n",
              "      <th>81</th>\n",
              "      <td>17850</td>\n",
              "      <td>62096A</td>\n",
              "      <td>0.005840</td>\n",
              "      <td>82</td>\n",
              "    </tr>\n",
              "    <tr>\n",
              "      <th>82</th>\n",
              "      <td>17850</td>\n",
              "      <td>85198</td>\n",
              "      <td>0.005840</td>\n",
              "      <td>83</td>\n",
              "    </tr>\n",
              "    <tr>\n",
              "      <th>83</th>\n",
              "      <td>17850</td>\n",
              "      <td>75178</td>\n",
              "      <td>0.005838</td>\n",
              "      <td>84</td>\n",
              "    </tr>\n",
              "    <tr>\n",
              "      <th>84</th>\n",
              "      <td>17850</td>\n",
              "      <td>84575A</td>\n",
              "      <td>0.005824</td>\n",
              "      <td>85</td>\n",
              "    </tr>\n",
              "    <tr>\n",
              "      <th>85</th>\n",
              "      <td>17850</td>\n",
              "      <td>17109D</td>\n",
              "      <td>0.005795</td>\n",
              "      <td>86</td>\n",
              "    </tr>\n",
              "    <tr>\n",
              "      <th>86</th>\n",
              "      <td>17850</td>\n",
              "      <td>22317</td>\n",
              "      <td>0.005794</td>\n",
              "      <td>87</td>\n",
              "    </tr>\n",
              "    <tr>\n",
              "      <th>87</th>\n",
              "      <td>17850</td>\n",
              "      <td>47343A</td>\n",
              "      <td>0.005787</td>\n",
              "      <td>88</td>\n",
              "    </tr>\n",
              "    <tr>\n",
              "      <th>88</th>\n",
              "      <td>17850</td>\n",
              "      <td>22104</td>\n",
              "      <td>0.005765</td>\n",
              "      <td>89</td>\n",
              "    </tr>\n",
              "    <tr>\n",
              "      <th>89</th>\n",
              "      <td>17850</td>\n",
              "      <td>84549</td>\n",
              "      <td>0.005707</td>\n",
              "      <td>90</td>\n",
              "    </tr>\n",
              "    <tr>\n",
              "      <th>90</th>\n",
              "      <td>17850</td>\n",
              "      <td>85163A</td>\n",
              "      <td>0.005695</td>\n",
              "      <td>91</td>\n",
              "    </tr>\n",
              "    <tr>\n",
              "      <th>91</th>\n",
              "      <td>17850</td>\n",
              "      <td>70006</td>\n",
              "      <td>0.005632</td>\n",
              "      <td>92</td>\n",
              "    </tr>\n",
              "    <tr>\n",
              "      <th>92</th>\n",
              "      <td>17850</td>\n",
              "      <td>84683</td>\n",
              "      <td>0.005625</td>\n",
              "      <td>93</td>\n",
              "    </tr>\n",
              "    <tr>\n",
              "      <th>93</th>\n",
              "      <td>17850</td>\n",
              "      <td>22412</td>\n",
              "      <td>0.005622</td>\n",
              "      <td>94</td>\n",
              "    </tr>\n",
              "    <tr>\n",
              "      <th>94</th>\n",
              "      <td>17850</td>\n",
              "      <td>23402</td>\n",
              "      <td>0.005600</td>\n",
              "      <td>95</td>\n",
              "    </tr>\n",
              "    <tr>\n",
              "      <th>95</th>\n",
              "      <td>17850</td>\n",
              "      <td>35598B</td>\n",
              "      <td>0.005560</td>\n",
              "      <td>96</td>\n",
              "    </tr>\n",
              "    <tr>\n",
              "      <th>96</th>\n",
              "      <td>17850</td>\n",
              "      <td>22881</td>\n",
              "      <td>0.005554</td>\n",
              "      <td>97</td>\n",
              "    </tr>\n",
              "    <tr>\n",
              "      <th>97</th>\n",
              "      <td>17850</td>\n",
              "      <td>85039C</td>\n",
              "      <td>0.005548</td>\n",
              "      <td>98</td>\n",
              "    </tr>\n",
              "    <tr>\n",
              "      <th>98</th>\n",
              "      <td>17850</td>\n",
              "      <td>84313B</td>\n",
              "      <td>0.005534</td>\n",
              "      <td>99</td>\n",
              "    </tr>\n",
              "    <tr>\n",
              "      <th>99</th>\n",
              "      <td>17850</td>\n",
              "      <td>62086A</td>\n",
              "      <td>0.005444</td>\n",
              "      <td>100</td>\n",
              "    </tr>\n",
              "  </tbody>\n",
              "</table>\n",
              "<p>100 rows × 4 columns</p>\n",
              "</div>"
            ],
            "text/plain": [
              "    customer_id product_id     score  rank\n",
              "0         17850     71496A  0.009244     1\n",
              "1         17850      72232  0.009181     2\n",
              "2         17850      16216  0.009126     3\n",
              "3         17850      47481  0.009125     4\n",
              "4         17850     16151A  0.009093     5\n",
              "5         17850      44234  0.009053     6\n",
              "6         17850      20655  0.009012     7\n",
              "7         17850     35095A  0.008990     8\n",
              "8         17850     35095B  0.008898     9\n",
              "9         17850      22903  0.008757    10\n",
              "10        17850     90210D  0.008664    11\n",
              "11        17850      21634  0.008663    12\n",
              "12        17850      21733  0.008638    13\n",
              "13        17850      90057  0.008602    14\n",
              "14        17850     85025C  0.008586    15\n",
              "15        17850     47574A  0.008539    16\n",
              "16        17850     84858C  0.008472    17\n",
              "17        17850     84857B  0.008472    18\n",
              "18        17850     90210C  0.008472    19\n",
              "19        17850      16043  0.008472    20\n",
              "20        17850     37487B  0.008472    21\n",
              "21        17850     37488A  0.008472    22\n",
              "22        17850     85024B  0.008462    23\n",
              "23        17850      20679  0.008447    24\n",
              "24        17850      16052  0.008444    25\n",
              "25        17850      84422  0.008429    26\n",
              "26        17850      22134  0.008429    27\n",
              "27        17850      47471  0.008425    28\n",
              "28        17850     35638B  0.008424    29\n",
              "29        17850      21319  0.008416    30\n",
              "..          ...        ...       ...   ...\n",
              "70        17850      20766  0.006018    71\n",
              "71        17850      23522  0.005996    72\n",
              "72        17850      23099  0.005957    73\n",
              "73        17850      23315  0.005932    74\n",
              "74        17850      84817  0.005926    75\n",
              "75        17850      72586  0.005898    76\n",
              "76        17850     90125D  0.005840    77\n",
              "77        17850     90125A  0.005840    78\n",
              "78        17850     90125C  0.005840    79\n",
              "79        17850     16202B  0.005840    80\n",
              "80        17850      44228  0.005840    81\n",
              "81        17850     62096A  0.005840    82\n",
              "82        17850      85198  0.005840    83\n",
              "83        17850      75178  0.005838    84\n",
              "84        17850     84575A  0.005824    85\n",
              "85        17850     17109D  0.005795    86\n",
              "86        17850      22317  0.005794    87\n",
              "87        17850     47343A  0.005787    88\n",
              "88        17850      22104  0.005765    89\n",
              "89        17850      84549  0.005707    90\n",
              "90        17850     85163A  0.005695    91\n",
              "91        17850      70006  0.005632    92\n",
              "92        17850      84683  0.005625    93\n",
              "93        17850      22412  0.005622    94\n",
              "94        17850      23402  0.005600    95\n",
              "95        17850     35598B  0.005560    96\n",
              "96        17850      22881  0.005554    97\n",
              "97        17850     85039C  0.005548    98\n",
              "98        17850     84313B  0.005534    99\n",
              "99        17850     62086A  0.005444   100\n",
              "\n",
              "[100 rows x 4 columns]"
            ]
          },
          "metadata": {
            "tags": []
          },
          "execution_count": 63
        }
      ]
    },
    {
      "metadata": {
        "id": "gKg9bisG7M4z",
        "colab_type": "code",
        "colab": {}
      },
      "cell_type": "code",
      "source": [
        "df_rec['customer_id'].unique()"
      ],
      "execution_count": 0,
      "outputs": []
    },
    {
      "metadata": {
        "id": "FjAoqK8A9NnN",
        "colab_type": "code",
        "colab": {}
      },
      "cell_type": "code",
      "source": [
        "df_rec=df_rec.drop_duplicates()"
      ],
      "execution_count": 0,
      "outputs": []
    },
    {
      "metadata": {
        "id": "U64j9LwL9pDp",
        "colab_type": "code",
        "colab": {}
      },
      "cell_type": "code",
      "source": [
        "df_rec.count()"
      ],
      "execution_count": 0,
      "outputs": []
    },
    {
      "metadata": {
        "id": "pqsuL29m9yxt",
        "colab_type": "code",
        "colab": {}
      },
      "cell_type": "code",
      "source": [
        "#df_rec.to_csv('rec.csv', encoding = 'utf-8')\n"
      ],
      "execution_count": 0,
      "outputs": []
    },
    {
      "metadata": {
        "id": "z9KFULy3_bmC",
        "colab_type": "code",
        "colab": {}
      },
      "cell_type": "code",
      "source": [
        "c=df_rec.copy()"
      ],
      "execution_count": 0,
      "outputs": []
    },
    {
      "metadata": {
        "id": "mXskLgydAyOv",
        "colab_type": "code",
        "colab": {}
      },
      "cell_type": "code",
      "source": [
        "df1=c.pivot(index='customer_id',columns='product_id',values='rank')"
      ],
      "execution_count": 0,
      "outputs": []
    },
    {
      "metadata": {
        "id": "pcFo1I3qBBPL",
        "colab_type": "code",
        "colab": {}
      },
      "cell_type": "code",
      "source": [
        "df1.to_csv('ex.csv',encoding='utf-8')"
      ],
      "execution_count": 0,
      "outputs": []
    },
    {
      "metadata": {
        "id": "tNIq_KXRUYVU",
        "colab_type": "code",
        "colab": {}
      },
      "cell_type": "code",
      "source": [
        "models_w_norm = [cos_norm]"
      ],
      "execution_count": 0,
      "outputs": []
    },
    {
      "metadata": {
        "id": "p_C9vlHaUxja",
        "colab_type": "code",
        "colab": {}
      },
      "cell_type": "code",
      "source": [
        "names_w_norm = ['Cosine Similarity on Scaled Purchase Counts']"
      ],
      "execution_count": 0,
      "outputs": []
    },
    {
      "metadata": {
        "id": "IfaC3KJxU-VW",
        "colab_type": "code",
        "colab": {
          "base_uri": "https://localhost:8080/",
          "height": 1037
        },
        "outputId": "26ad8ad1-f2cd-4c7e-9a17-83ec79f71730"
      },
      "cell_type": "code",
      "source": [
        "eval_norm = tc.recommender.util.compare_models(test_data_norm, models_w_norm, model_names=names_w_norm)"
      ],
      "execution_count": 60,
      "outputs": [
        {
          "output_type": "stream",
          "text": [
            "PROGRESS: Evaluate model Cosine Similarity on Scaled Purchase Counts\n"
          ],
          "name": "stdout"
        },
        {
          "output_type": "display_data",
          "data": {
            "text/html": [
              "<pre>recommendations finished on 1000/3978 queries. users per second: 10105.2</pre>"
            ],
            "text/plain": [
              "recommendations finished on 1000/3978 queries. users per second: 10105.2"
            ]
          },
          "metadata": {
            "tags": []
          }
        },
        {
          "output_type": "display_data",
          "data": {
            "text/html": [
              "<pre>recommendations finished on 2000/3978 queries. users per second: 9992.95</pre>"
            ],
            "text/plain": [
              "recommendations finished on 2000/3978 queries. users per second: 9992.95"
            ]
          },
          "metadata": {
            "tags": []
          }
        },
        {
          "output_type": "display_data",
          "data": {
            "text/html": [
              "<pre>recommendations finished on 3000/3978 queries. users per second: 9955.14</pre>"
            ],
            "text/plain": [
              "recommendations finished on 3000/3978 queries. users per second: 9955.14"
            ]
          },
          "metadata": {
            "tags": []
          }
        },
        {
          "output_type": "stream",
          "text": [
            "\n",
            "Precision and recall summary statistics by cutoff\n",
            "+--------+----------------------+----------------------+\n",
            "| cutoff |    mean_precision    |     mean_recall      |\n",
            "+--------+----------------------+----------------------+\n",
            "|   1    | 0.039215686274509776 | 0.008679250347307732 |\n",
            "|   2    | 0.029663147310206174 | 0.01301853265253825  |\n",
            "|   3    | 0.024635495223730527 | 0.01600632982127672  |\n",
            "|   4    | 0.02155605832076422  | 0.018351836772227605 |\n",
            "|   5    | 0.01940673705379585  | 0.021055816244508804 |\n",
            "|   6    | 0.017471091000502762 | 0.023019187775021634 |\n",
            "|   7    | 0.01612439847733962  | 0.024469081876166147 |\n",
            "|   8    | 0.015051533433886393 | 0.025704858148654863 |\n",
            "|   9    | 0.013881906038768769 | 0.02613146182933457  |\n",
            "|   10   | 0.013247863247863284 | 0.027490957436983494 |\n",
            "+--------+----------------------+----------------------+\n",
            "[10 rows x 3 columns]\n",
            "\n",
            "\n",
            "Overall RMSE: 0.24816302102822008\n",
            "\n",
            "Per User RMSE (best)\n",
            "+-------------+------+-------+\n",
            "| customer_id | rmse | count |\n",
            "+-------------+------+-------+\n",
            "|    17233    | 0.0  |   1   |\n",
            "+-------------+------+-------+\n",
            "[1 rows x 3 columns]\n",
            "\n",
            "\n",
            "Per User RMSE (worst)\n",
            "+-------------+------+-------+\n",
            "| customer_id | rmse | count |\n",
            "+-------------+------+-------+\n",
            "|    17647    | 1.0  |   1   |\n",
            "+-------------+------+-------+\n",
            "[1 rows x 3 columns]\n",
            "\n",
            "\n",
            "Per Item RMSE (best)\n",
            "+------------+------+-------+\n",
            "| product_id | rmse | count |\n",
            "+------------+------+-------+\n",
            "|   72369A   | 0.0  |   1   |\n",
            "+------------+------+-------+\n",
            "[1 rows x 3 columns]\n",
            "\n",
            "\n",
            "Per Item RMSE (worst)\n",
            "+------------+------+-------+\n",
            "| product_id | rmse | count |\n",
            "+------------+------+-------+\n",
            "|   10124A   | 1.0  |   1   |\n",
            "+------------+------+-------+\n",
            "[1 rows x 3 columns]\n",
            "\n"
          ],
          "name": "stdout"
        }
      ]
    },
    {
      "metadata": {
        "id": "DtECXBPmV-8I",
        "colab_type": "code",
        "colab": {}
      },
      "cell_type": "code",
      "source": [
        ""
      ],
      "execution_count": 0,
      "outputs": []
    },
    {
      "metadata": {
        "id": "SxfL5BT-ZW2S",
        "colab_type": "code",
        "colab": {}
      },
      "cell_type": "code",
      "source": [
        ""
      ],
      "execution_count": 0,
      "outputs": []
    }
  ]
}